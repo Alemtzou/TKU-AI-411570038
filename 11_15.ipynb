{
  "nbformat": 4,
  "nbformat_minor": 0,
  "metadata": {
    "colab": {
      "provenance": [],
      "authorship_tag": "ABX9TyMd77O03vS1vfoGiQWahpY6",
      "include_colab_link": true
    },
    "kernelspec": {
      "name": "python3",
      "display_name": "Python 3"
    },
    "language_info": {
      "name": "python"
    }
  },
  "cells": [
    {
      "cell_type": "markdown",
      "metadata": {
        "id": "view-in-github",
        "colab_type": "text"
      },
      "source": [
        "<a href=\"https://colab.research.google.com/github/Alemtzou/TKU-AI-411570038/blob/main/11_15.ipynb\" target=\"_parent\"><img src=\"https://colab.research.google.com/assets/colab-badge.svg\" alt=\"Open In Colab\"/></a>"
      ]
    },
    {
      "cell_type": "markdown",
      "source": [
        "今天是11月15日"
      ],
      "metadata": {
        "id": "mgilI-gluf78"
      }
    },
    {
      "cell_type": "code",
      "source": [
        "print(\"Hi,python\")"
      ],
      "metadata": {
        "colab": {
          "base_uri": "https://localhost:8080/"
        },
        "id": "gBUtbDRuvXlg",
        "outputId": "5633e7ee-97c0-4ec6-8907-1e2ceaf7203f"
      },
      "execution_count": 2,
      "outputs": [
        {
          "output_type": "stream",
          "name": "stdout",
          "text": [
            "Hi,python\n"
          ]
        }
      ]
    },
    {
      "cell_type": "markdown",
      "source": [
        "今天是11月15日"
      ],
      "metadata": {
        "id": "p9ZIqgvOwwEn"
      }
    },
    {
      "cell_type": "code",
      "source": [
        "print(\"今天是11月15日\")"
      ],
      "metadata": {
        "colab": {
          "base_uri": "https://localhost:8080/"
        },
        "id": "nEPCHWGJwQ7P",
        "outputId": "7bf612a4-c18f-4212-e81e-b62f5d0c1374"
      },
      "execution_count": 5,
      "outputs": [
        {
          "output_type": "stream",
          "name": "stdout",
          "text": [
            "今天是11月15日\n"
          ]
        }
      ]
    },
    {
      "cell_type": "code",
      "source": [
        "print(\"鄒忠佑411570038\")"
      ],
      "metadata": {
        "colab": {
          "base_uri": "https://localhost:8080/"
        },
        "id": "1I8DqdwvxcyO",
        "outputId": "ae5c5e15-1d62-49e9-b845-8c1695a083dd"
      },
      "execution_count": 8,
      "outputs": [
        {
          "output_type": "stream",
          "name": "stdout",
          "text": [
            "鄒忠佑411570038\n"
          ]
        }
      ]
    }
  ]
}